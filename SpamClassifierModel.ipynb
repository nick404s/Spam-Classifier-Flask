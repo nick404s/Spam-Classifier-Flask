{
  "nbformat": 4,
  "nbformat_minor": 5,
  "metadata": {
    "kernelspec": {
      "display_name": "Python 3 (ipykernel)",
      "language": "python",
      "name": "python3"
    },
    "language_info": {
      "codemirror_mode": {
        "name": "ipython",
        "version": 3
      },
      "file_extension": ".py",
      "mimetype": "text/x-python",
      "name": "python",
      "nbconvert_exporter": "python",
      "pygments_lexer": "ipython3",
      "version": "3.8.3"
    },
    "colab": {
      "name": "SpamClassifierModel.ipynb",
      "provenance": []
    }
  },
  "cells": [
    {
      "cell_type": "code",
      "metadata": {
        "scrolled": false,
        "id": "19addb80"
      },
      "source": [
        "'''\n",
        "Using Naive Bayes model to train email ham/spam classifier.\n",
        "'''\n",
        "import numpy as np\n",
        "import pandas as pd\n",
        "import matplotlib.pyplot as plt\n",
        "%matplotlib inline\n",
        "import seaborn as sns\n",
        "from sklearn.pipeline import Pipeline\n",
        "from sklearn.model_selection import train_test_split\n",
        "from sklearn.feature_extraction.text import CountVectorizer\n",
        "from sklearn.naive_bayes import MultinomialNB\n",
        "from sklearn.metrics import f1_score\n",
        "from sklearn.metrics import confusion_matrix\n",
        "from sklearn.metrics import accuracy_score\n",
        "from sklearn.metrics import classification_report\n",
        "import joblib \n",
        "\n",
        "DATA_URL = 'https://github.com/codebasics/py/raw/master/ML/14_naive_bayes/spam.csv'\n",
        "\n",
        "def get_datasets(url):\n",
        "    # use pandas to read in email ham/spam data\n",
        "    data_frame = pd.read_csv(DATA_URL)\n",
        "\n",
        "    # create separate variables for 'Category' and 'Message'\n",
        "    categories = data_frame.Category.values\n",
        "    messages = data_frame.Message.values\n",
        "\n",
        "    # split the data into 70% training data and 30% testing data\n",
        "    x_train, x_test, y_train, y_test = train_test_split(messages, categories, test_size=0.3, random_state=0)\n",
        "\n",
        "    return (x_train, y_train), (x_test, y_test)\n",
        "\n",
        "def create_model(training_set, training_labels):   \n",
        "    return Pipeline([(\"vectorizer\", CountVectorizer()), (\"nb\", MultinomialNB())]).fit(training_set, training_labels)\n",
        "\n",
        "def display_confusion_matrix(actual, predicted):\n",
        "    # generate the confusion matrix\n",
        "    results = confusion_matrix(actual, predicted, labels=[\"spam\", \"ham\"])\n",
        "    \n",
        "    # labels for ham or spam\n",
        "    category_labels = ['spam', 'ham']\n",
        "\n",
        "    # use seaborn to generate visual of the confusion matrix\n",
        "    sns.heatmap(results, \n",
        "                annot=True, \n",
        "                fmt='.0f', \n",
        "                linewidths=0.5,\n",
        "                annot_kws={'fontsize': 13}, \n",
        "                square=True, \n",
        "                xticklabels=category_labels,\n",
        "                yticklabels=category_labels)\n",
        "    \n",
        "def report_results(actual, predicted):\n",
        "    print(f'Accuracy Score: {accuracy_score(actual, predicted) * 100:.2f}%\\n')\n",
        "\n",
        "    print(f'Classification Report:\\n {classification_report(actual, predicted)}')\n",
        "\n",
        "    # convert actual and predicted values to ints to enable calculating f1_score\n",
        "    actual_nums = [1 if x == 'ham' else 0 for x in actual]\n",
        "    predicted_nums = [1 if x == 'ham' else 0 for x in predicted]\n",
        "    f_measure = f1_score(actual_nums, predicted_nums)\n",
        "    print(f'F-Measure: {f_measure:.3f}\\n');\n",
        "    \n",
        "def make_prediction(model, email):\n",
        "    print(f'email: {email}\\nemail prediction: {model.predict(email)}\\n')\n",
        "    \n",
        "def save_model(model, name):\n",
        "    joblib.dump(model, name) \n",
        "\n",
        "# call functions to get data and create the model\n",
        "(x_train, y_train), (x_test, y_test) = get_datasets(DATA_URL)\n",
        "model = create_model(x_train, y_train)\n",
        "\n",
        "# make predictions based on the trained data\n",
        "predicted = model.predict(x_test)\n",
        "\n",
        "# dump out the model to be used by the REST endpoint for making predictions\n",
        "model_name = 'email_classifer.pkl'\n",
        "save_model(model, model_name)\n"
      ],
      "id": "19addb80",
      "execution_count": null,
      "outputs": []
    },
    {
      "cell_type": "code",
      "metadata": {
        "id": "3c662672",
        "outputId": "a7f58a3f-e4f4-4500-d754-cc334fcd3d74"
      },
      "source": [
        "# test on a ham email\n",
        "make_prediction(model, np.array(['Hello, need me to pick anything up from the grocery store?']))\n",
        "\n",
        "# test on a spam email\n",
        "make_prediction(model, np.array(['You are the lucky winner!  Contact now to claim prize.']))\n",
        "\n",
        "# test making prediction with re-constituted model to ensure it works correctly\n",
        "model1 = joblib.load(model_name)\n",
        "make_prediction(model1, np.array(['I\\'m a ham email']))"
      ],
      "id": "3c662672",
      "execution_count": null,
      "outputs": [
        {
          "name": "stdout",
          "output_type": "stream",
          "text": [
            "email: ['Hello, need me to pick anything up from the grocery store?']\n",
            "email prediction: ['ham']\n",
            "\n",
            "email: ['You are the lucky winner!  Contact now to claim prize.']\n",
            "email prediction: ['spam']\n",
            "\n",
            "email: [\"I'm a ham email\"]\n",
            "email prediction: ['ham']\n",
            "\n"
          ]
        }
      ]
    },
    {
      "cell_type": "code",
      "metadata": {
        "id": "474e8a25",
        "outputId": "58f80d2c-2ca0-48cb-c859-e50d0f3ee72c"
      },
      "source": [
        "# show the results\n",
        "report_results(y_test, predicted)\n",
        "display_confusion_matrix(y_test, predicted)"
      ],
      "id": "474e8a25",
      "execution_count": null,
      "outputs": [
        {
          "name": "stdout",
          "output_type": "stream",
          "text": [
            "Accuracy Score: 98.56%\n",
            "\n",
            "Classification Report:\n",
            "               precision    recall  f1-score   support\n",
            "\n",
            "         ham       0.99      1.00      0.99      1451\n",
            "        spam       0.98      0.91      0.94       221\n",
            "\n",
            "    accuracy                           0.99      1672\n",
            "   macro avg       0.98      0.96      0.97      1672\n",
            "weighted avg       0.99      0.99      0.99      1672\n",
            "\n",
            "F-Measure: 0.992\n",
            "\n"
          ]
        },
        {
          "data": {
            "image/png": "[encoded data removed]",
            "text/plain": [
              "<Figure size 432x288 with 2 Axes>"
            ]
          },
          "metadata": {
            "needs_background": "light"
          },
          "output_type": "display_data"
        }
      ]
    },
    {
      "cell_type": "code",
      "metadata": {
        "id": "bc13fb7d"
      },
      "source": [
        ""
      ],
      "id": "bc13fb7d",
      "execution_count": null,
      "outputs": []
    }
  ]
}